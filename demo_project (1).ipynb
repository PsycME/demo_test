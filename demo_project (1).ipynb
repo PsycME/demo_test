{
 "cells": [
  {
   "cell_type": "markdown",
   "metadata": {
    "collapsed": true
   },
   "source": [
    "<h1>My Jupyter Notebook on IBM Watson Studio</h1>"
   ]
  },
  {
   "cell_type": "markdown",
   "metadata": {},
   "source": [
    "<h2>Adelakun Oluwapelumi</h2>\n",
    "<p>Regenerative and renewable energy engineer</p>"
   ]
  },
  {
   "cell_type": "markdown",
   "metadata": {},
   "source": [
    "<p><em>I am interested in data science because of continues to shape our world today and build a sustainable future. I am excited about its technicality and attention to detail, which has revolutionized sectors such as education, agriculture, marketing, health care, travel and transportation, etc. and continues solving some of the world's \n",
    "most significant challenges through reasonable data collection and postulation of the most efficient solutions to these problems</em></p>"
   ]
  },
  {
   "cell_type": "markdown",
   "metadata": {},
   "source": [
    "<h3>My code is meant to determine the sum of two integers</h3>"
   ]
  },
  {
   "cell_type": "code",
   "execution_count": 7,
   "metadata": {},
   "outputs": [
    {
     "name": "stdout",
     "output_type": "stream",
     "text": [
      "2\n"
     ]
    }
   ],
   "source": [
    "print(1+1)"
   ]
  },
  {
   "cell_type": "markdown",
   "metadata": {},
   "source": [
    "<hr>\n",
    "<ul>\n",
    "    <li>Random one</li>\n",
    "    <li>Random two</li>\n",
    "    <li>Random three</li>\n",
    "</ul>\n",
    "<ol>\n",
    "    <li>Random one</li>\n",
    "    <li>Random two</li>\n",
    "    <li>Random three</li>\n",
    "</ol>\n",
    "<table>\n",
    "    <tr>\n",
    "        <th>Name</th>\n",
    "        <th>Age</th>\n",
    "        <th>Sex</th>\n",
    "    </tr>\n",
    "    <tr>\n",
    "        <td>Alex</td>\n",
    "        <td>27</td>\n",
    "        <td>Male</td>\n",
    "    </tr>\n",
    "    <tr>\n",
    "        <td>Mary</td>\n",
    "        <td>58</td>\n",
    "        <td>Feale</td>\n",
    "    </tr>\n",
    "    <tr>\n",
    "        <td>Billy</td>\n",
    "        <td>33</td>\n",
    "        <td>Male</td>\n",
    "    </tr>\n",
    "</table>"
   ]
  },
  {
   "cell_type": "code",
   "execution_count": null,
   "metadata": {},
   "outputs": [],
   "source": []
  }
 ],
 "metadata": {
  "kernelspec": {
   "display_name": "Python 3",
   "language": "python",
   "name": "python3"
  },
  "language_info": {
   "codemirror_mode": {
    "name": "ipython",
    "version": 3
   },
   "file_extension": ".py",
   "mimetype": "text/x-python",
   "name": "python",
   "nbconvert_exporter": "python",
   "pygments_lexer": "ipython3",
   "version": "3.7.10"
  }
 },
 "nbformat": 4,
 "nbformat_minor": 1
}
